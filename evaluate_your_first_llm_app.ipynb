{
 "cells": [
  {
   "cell_type": "code",
   "execution_count": 2,
   "metadata": {},
   "outputs": [
    {
     "data": {
      "text/plain": [
       "0.13718598426177148"
      ]
     },
     "execution_count": 2,
     "metadata": {},
     "output_type": "execute_result"
    }
   ],
   "source": [
    "from ragas import SingleTurnSample\n",
    "from ragas.metrics import BleuScore\n",
    "\n",
    "test_data = {\n",
    "    \"user_input\": \"summarise given text\\nThe company reported an 8% rise in Q3 2024, driven by strong performance in the Asian market. Sales in this region have significantly contributed to the overall growth. Analysts attribute this success to strategic marketing and product localization. The positive trend in the Asian market is expected to continue into the next quarter.\",\n",
    "    \"response\": \"The company experienced an 8% increase in Q3 2024, largely due to effective marketing strategies and product adaptation, with expectations of continued growth in the coming quarter.\",\n",
    "    \"reference\": \"The company reported an 8% growth in Q3 2024, primarily driven by strong sales in the Asian market, attributed to strategic marketing and localized products, with continued growth anticipated in the next quarter.\"\n",
    "}\n",
    "metric = BleuScore()\n",
    "test_data = SingleTurnSample(**test_data)\n",
    "metric.single_turn_score(test_data)"
   ]
  },
  {
   "cell_type": "code",
   "execution_count": 5,
   "metadata": {},
   "outputs": [
    {
     "data": {
      "text/plain": [
       "True"
      ]
     },
     "execution_count": 5,
     "metadata": {},
     "output_type": "execute_result"
    }
   ],
   "source": [
    "from dotenv import load_dotenv\n",
    "import os\n",
    "load_dotenv()"
   ]
  },
  {
   "cell_type": "code",
   "execution_count": 15,
   "metadata": {},
   "outputs": [],
   "source": [
    "from ragas.llms import LangchainLLMWrapper\n",
    "from ragas.embeddings import LangchainEmbeddingsWrapper\n",
    "from langchain_openai import ChatOpenAI\n",
    "from langchain_openai import OpenAIEmbeddings\n",
    "evaluator_llm = LangchainLLMWrapper(ChatOpenAI(model=\"gpt-3.5-turbo-1106\"))\n",
    "evaluator_embeddings = LangchainEmbeddingsWrapper(OpenAIEmbeddings())"
   ]
  },
  {
   "cell_type": "code",
   "execution_count": 34,
   "metadata": {},
   "outputs": [
    {
     "data": {
      "text/plain": [
       "1"
      ]
     },
     "execution_count": 34,
     "metadata": {},
     "output_type": "execute_result"
    }
   ],
   "source": [
    "from ragas import SingleTurnSample\n",
    "from ragas.metrics import AspectCritic\n",
    "\n",
    "test_data = {\n",
    "    \"user_input\": \"summarise given text\\nThe company reported an 8% rise in Q3 2024, driven by strong performance in the Asian market. Sales in this region have significantly contributed to the overall growth. Analysts attribute this success to strategic marketing and product localization. The positive trend in the Asian market is expected to continue into the next quarter.\",\n",
    "    \"response\": \"The company experienced an 8% increase in Q3 2024, largely due to effective marketing strategies and product adaptation, with expectations of continued growth in the coming quarter.\",\n",
    "}\n",
    "\n",
    "metric = AspectCritic(name=\"summary_accuracy\",llm=evaluator_llm, definition=\"Verify if the summary is accurate.\")\n",
    "test_data = SingleTurnSample(**test_data)\n",
    "await metric.single_turn_ascore(test_data)"
   ]
  },
  {
   "cell_type": "code",
   "execution_count": 35,
   "metadata": {},
   "outputs": [
    {
     "data": {
      "text/plain": [
       "summary_accuracy(definition='Verify if the summary is accurate.', required_columns={'SINGLE_TURN': set(), 'MULTI_TURN': set()}, llm=LangchainLLMWrapper(langchain_llm=ChatOpenAI(...)))"
      ]
     },
     "execution_count": 35,
     "metadata": {},
     "output_type": "execute_result"
    }
   ],
   "source": [
    "metric"
   ]
  },
  {
   "cell_type": "code",
   "execution_count": 36,
   "metadata": {},
   "outputs": [
    {
     "name": "stdout",
     "output_type": "stream",
     "text": [
      "Features in dataset: ['user_input', 'response']\n",
      "Total samples in dataset: 50\n"
     ]
    }
   ],
   "source": [
    "from datasets import load_dataset\n",
    "from ragas import EvaluationDataset\n",
    "eval_dataset = load_dataset(\"explodinggradients/earning_report_summary\",split=\"train\")\n",
    "eval_dataset = EvaluationDataset.from_hf_dataset(eval_dataset)\n",
    "print(\"Features in dataset:\", eval_dataset.features())\n",
    "print(\"Total samples in dataset:\", len(eval_dataset))"
   ]
  },
  {
   "cell_type": "code",
   "execution_count": 37,
   "metadata": {},
   "outputs": [
    {
     "data": {
      "text/plain": [
       "EvaluationDataset(features=['user_input', 'response'], len=50)"
      ]
     },
     "execution_count": 37,
     "metadata": {},
     "output_type": "execute_result"
    }
   ],
   "source": [
    "eval_dataset"
   ]
  },
  {
   "cell_type": "code",
   "execution_count": 38,
   "metadata": {},
   "outputs": [
    {
     "name": "stderr",
     "output_type": "stream",
     "text": [
      "Evaluating: 100%|██████████| 50/50 [00:02<00:00, 17.71it/s]\n"
     ]
    },
    {
     "data": {
      "text/plain": [
       "{'summary_accuracy': 1.0000}"
      ]
     },
     "execution_count": 38,
     "metadata": {},
     "output_type": "execute_result"
    }
   ],
   "source": [
    "from ragas import evaluate\n",
    "\n",
    "results = evaluate(eval_dataset, metrics=[metric])\n",
    "results"
   ]
  },
  {
   "cell_type": "code",
   "execution_count": 39,
   "metadata": {},
   "outputs": [
    {
     "data": {
      "application/vnd.microsoft.datawrangler.viewer.v0+json": {
       "columns": [
        {
         "name": "index",
         "rawType": "int64",
         "type": "integer"
        },
        {
         "name": "user_input",
         "rawType": "object",
         "type": "string"
        },
        {
         "name": "response",
         "rawType": "object",
         "type": "string"
        },
        {
         "name": "summary_accuracy",
         "rawType": "int64",
         "type": "integer"
        }
       ],
       "conversionMethod": "pd.DataFrame",
       "ref": "c48723d8-e12b-47b5-9e5c-db03be115c54",
       "rows": [
        [
         "0",
         "summarise given text\nThe Q2 earnings report revealed a significant 15% increase in revenue, which was largely driven by strong performance in the European market. Analysts were impressed by the company's ability to capitalize on opportunities in this region. The European market's growth played a crucial role in the overall financial success of the quarter. Investors are optimistic about future prospects given these positive results.",
         "The Q2 earnings report showed a 15% revenue increase, driven by strong European market performance, impressing analysts and boosting investor optimism.",
         "1"
        ],
        [
         "1",
         "summarise given text\nIn 2023, North American sales experienced a 5% decline compared to the previous year. This downturn was attributed to various market challenges and changing consumer preferences. Companies are now strategizing to recover and adapt to the evolving economic landscape. Despite the decline, there are opportunities for growth in emerging sectors.",
         "Companies are strategizing to adapt to market challenges and changing consumer preferences, with growth opportunities in emerging sectors despite recent downturns.",
         "1"
        ],
        [
         "2",
         "summarise given text\nIn 2022, European expansion was a significant focus for many companies, leading to a remarkable 15% growth in various sectors. This growth was driven by strategic investments and increased market penetration across the continent. Analysts noted that the European expansion efforts were crucial in achieving such impressive results. The 15% growth in 2022 set a new benchmark for future endeavors in the region.",
         "Many companies experienced a notable 15% growth due to strategic investments and increased market penetration, setting a new benchmark for future endeavors in the region.",
         "1"
        ],
        [
         "3",
         "summarise given text\nSupply chain challenges have significantly impacted businesses across North America, leading to a reported 5% loss in revenue for many companies. These disruptions have been attributed to a variety of factors, including labor shortages and transportation delays. As a result, organizations are seeking innovative solutions to mitigate these losses and improve efficiency. The ongoing situation highlights the need for robust contingency planning in the face of global supply chain vulnerabilities.",
         "Supply chain challenges in North America, caused by labor shortages and transportation delays, have led to a 5% revenue loss for many companies, prompting the need for innovative solutions and robust contingency planning.",
         "1"
        ],
        [
         "4",
         "summarise given text\nIn Q2 2023, the company reported a significant 15% rise in revenue compared to the previous quarter. This increase in revenue was attributed to strong sales in the new product line and improved market conditions. Analysts were optimistic about the company's future performance, citing the 15% rise as a positive indicator. The management expressed confidence in maintaining this growth trajectory in the upcoming quarters.",
         "The company experienced a notable increase in earnings due to strong sales in the new product line and favorable market conditions, with analysts and management expressing optimism about future growth.",
         "1"
        ],
        [
         "5",
         "summarise given text\nIn 2023, marketing campaigns in North America have seen a significant shift towards digital platforms. Companies are increasingly leveraging social media and online advertising to reach their target audiences. This trend is driven by the growing internet penetration and the changing consumer behavior in the region. As a result, businesses are investing more in innovative strategies to stay competitive in the North American market.",
         "In 2023, marketing campaigns in North America are increasingly leveraging digital platforms, driven by growing internet penetration and changing consumer behavior, prompting businesses to invest in innovative strategies to stay competitive.",
         "1"
        ],
        [
         "6",
         "summarise given text\nThe company's international expansion strategy has been a significant success, particularly in the European market. Over the past year, they have achieved a remarkable 15% growth in this region. This expansion has been driven by a combination of innovative products and strategic partnerships. As a result, the company is well-positioned to continue its upward trajectory in the coming years.",
         "The company's international expansion strategy has led to a 15% growth in the European market, driven by innovative products and strategic partnerships.",
         "1"
        ],
        [
         "7",
         "summarise given text\nIn 2024, companies are increasingly focusing on targeted marketing strategies to capture the North American market. By leveraging data analytics, businesses can tailor their campaigns to meet the specific needs and preferences of consumers in this region. This approach not only enhances customer engagement but also boosts sales and brand loyalty. As competition intensifies, targeted marketing becomes a crucial tool for success in the North American market.",
         "Companies are using data analytics to customize campaigns, improving customer engagement, sales, and brand loyalty as competition grows.",
         "1"
        ],
        [
         "8",
         "summarise given text\nIn 2023, logistics investments in North America have seen a significant surge, driven by advancements in technology and infrastructure. Companies are focusing on enhancing supply chain efficiency to meet the growing demand in the region. This trend is expected to continue as North America remains a key player in the global logistics market. Investors are keen on capitalizing on these opportunities to maximize returns.",
         "Driven by technological and infrastructural advancements, companies are enhancing supply chain efficiency to meet growing demand, with investors eager to capitalize on these opportunities for maximum returns.",
         "1"
        ],
        [
         "9",
         "summarise given text\nIn 2023, the company experienced a 5% decline in its market share, raising concerns among investors. Analysts attributed this drop to increased competition and changing consumer preferences. Despite the decline, the company is implementing new strategies to regain its market position. The management remains optimistic about reversing the trend by the end of the year.",
         "The company faced challenges due to competition and shifting consumer preferences, but is optimistic about reversing the trend with new strategies by year-end.",
         "1"
        ],
        [
         "10",
         "summarise given text\nThe company reported a 5% decrease in Q1 2023 revenue, primarily due to challenges in the European market. Despite efforts to stabilize operations, the economic conditions in Europe have significantly impacted sales. Management is focusing on strategic initiatives to recover and boost revenue in the upcoming quarters. The European market remains a critical area for growth and improvement moving forward.",
         "The company faced challenges in the European market, impacting sales, and is focusing on strategic initiatives to recover and boost growth in the upcoming quarters.",
         "1"
        ],
        [
         "11",
         "summarise given text\nThe company reported a significant profit due to an 8% rise in Q3 2024. This growth was largely driven by strong performance in the Asian market. Analysts attribute the success to strategic investments and increased consumer demand in the region. The positive results have bolstered investor confidence moving forward.",
         "The company's significant profit in Q3 2024, driven by an 8% rise and strong performance in the Asian market, is attributed to strategic investments and increased consumer demand, bolstering investor confidence.",
         "1"
        ],
        [
         "12",
         "summarise given text\nThe global market has experienced a significant shift, with sales showing a 15% decline in Q3 2024. This downturn has raised concerns among investors and stakeholders worldwide. Analysts are closely monitoring the situation to understand the underlying factors contributing to this decline. Companies are now strategizing to adapt to the changing dynamics of the global market.",
         "The recent downturn has raised concerns among investors and stakeholders, prompting companies to strategize and adapt to changing dynamics.",
         "1"
        ],
        [
         "13",
         "summarise given text\nThe logistics industry in North America is projected to experience a 20% growth in 2024. This surge is attributed to advancements in technology and increased demand for efficient supply chain solutions. Companies are investing heavily in infrastructure to capitalize on this growth. As a result, the region is poised to become a leader in global logistics innovation.",
         "The industry is expected to grow by 20% in 2024 due to technological advancements and a higher demand for efficient supply chain solutions, with companies investing in infrastructure to lead in global innovation.",
         "1"
        ],
        [
         "14",
         "summarise given text\nThe company reported an 8% rise in Q3 2024, driven by strong performance in the Asian market. Sales in this region have significantly contributed to the overall growth. Analysts attribute this success to strategic marketing and product localization. The positive trend in the Asian market is expected to continue into the next quarter.",
         "The company experienced an 8% increase in Q3 2024, largely due to effective marketing strategies and product adaptation, with expectations of continued growth in the coming quarter.",
         "1"
        ],
        [
         "15",
         "summarise given text\nIn 2022, the Asian market experienced a significant 15% decline, impacting various sectors. This downturn led to increased scrutiny over expenses as companies sought to mitigate losses. Analysts noted that the decline was one of the most substantial in recent years for the region. Businesses are now strategizing to recover and stabilize their financial standing.",
         "In 2022, the Asian market experienced a significant 15% decline, leading to increased scrutiny over expenses as companies strategize to recover and stabilize their financial standing.",
         "1"
        ],
        [
         "16",
         "summarise given text\nThe global market has witnessed a significant shift with a 10% increase in Q1 2023. This surge has positively impacted the revenue streams of many multinational corporations. Analysts attribute this growth to strategic investments and expanding consumer bases. As a result, the global market outlook remains optimistic for the remainder of the year.",
         "The global market experienced a 10% increase in Q1 2023, boosting multinational corporations' revenue streams and leading to an optimistic outlook for the year, attributed to strategic investments and expanding consumer bases.",
         "1"
        ],
        [
         "17",
         "summarise given text\nThe company reported a 10% increase in 2023, significantly boosting its Revenue. This growth was primarily driven by strong performance in the European market. Analysts attribute the success to strategic investments and expanding customer base in the region. As a result, the company is optimistic about maintaining this upward trend in the coming years.",
         "The company experienced significant growth due to strategic investments and an expanding customer base, leading to optimism about future trends.",
         "1"
        ],
        [
         "18",
         "summarise given text\nThe company's revenue saw an 8% rise in 2023, largely driven by its expansion into the European market. This growth in the European market has been a significant contributor to the overall financial success. Analysts attribute the 8% rise in 2023 to strategic investments and increased consumer demand in Europe. The company plans to continue leveraging the European market to sustain its revenue growth.",
         "The company's financial success was significantly influenced by strategic investments and increased consumer demand, with plans to sustain growth through continued efforts in Europe.",
         "1"
        ],
        [
         "19",
         "summarise given text\nThe Marketing team is strategizing to address the challenges posed by the projected 15% decline in 2024 within the Asian market. This downturn is prompting companies to innovate and adapt their approaches to maintain competitiveness. Analysts suggest that understanding local consumer behavior will be crucial in mitigating the impact of this decline. As a result, businesses are investing in targeted campaigns to better engage with the Asian market.",
         "The team is strategizing to address the challenges posed by the projected 15% decline in 2024 within the Asian market, prompting companies to innovate and adapt their approaches to maintain competitiveness.",
         "1"
        ],
        [
         "20",
         "summarise given text\nIn 2023, the global market experienced a 5% decrease in sales, impacting various industries worldwide. This decline was attributed to several economic factors and shifts in consumer behavior. Companies are now strategizing to adapt to these changes and regain their market positions. Despite the challenges, there is optimism for recovery in the coming years.",
         "In 2023, the global market saw a 5% sales decrease due to economic factors and consumer behavior shifts, prompting companies to strategize for recovery.",
         "1"
        ],
        [
         "21",
         "summarise given text\nIn 2022, there was an 8% rise in expenses across Latin America. This increase was attributed to various economic factors impacting the region. Businesses and consumers alike felt the pressure of rising costs. As a result, financial strategies had to be adjusted to accommodate the growing expenses.",
         "Economic factors led to increased expenses, prompting businesses and consumers to adjust their financial strategies.",
         "1"
        ],
        [
         "22",
         "summarise given text\nIn 2022, the global market experienced a remarkable 20% growth, significantly impacting sales across various sectors. This surge in sales was driven by increased consumer demand and innovative marketing strategies. Companies worldwide capitalized on this growth, expanding their reach and enhancing their market presence. As a result, the global market dynamics shifted, setting new benchmarks for future sales targets.",
         "In 2022, a remarkable 20% growth significantly impacted sales across various sectors, driven by increased consumer demand and innovative marketing strategies, leading companies to expand their reach and set new benchmarks for future sales targets.",
         "1"
        ],
        [
         "23",
         "summarise given text\nIn 2022, the European market experienced a 5% decrease in sales, impacting various industries. This decline was attributed to several economic factors affecting consumer spending. Companies are now strategizing to recover and boost their sales figures in the coming years. Analysts are closely monitoring the market trends to predict future growth opportunities.",
         "In 2022, the European market experienced a 5% decrease in sales due to economic factors, prompting companies to strategize for recovery and analysts to monitor market trends for future growth opportunities.",
         "1"
        ],
        [
         "24",
         "summarise given text\nIn 2022, companies operating in Latin America experienced a 15% decline in profit due to various economic challenges. Despite the downturn, some sectors managed to stabilize their operations by the end of the year. Analysts predict that with strategic adjustments, the region could see a recovery in profit margins. The focus now is on leveraging local resources to mitigate future declines.",
         "In 2022, companies in Latin America faced a 15% decline due to economic challenges, but some sectors stabilized by year's end, with analysts suggesting strategic adjustments could lead to recovery, focusing on local resources to prevent future downturns.",
         "1"
        ],
        [
         "25",
         "summarise given text\nIn 2023, the European market experienced a 15% decline, significantly impacting various industries. Companies are now focusing on reducing expenses to adapt to the changing economic landscape. This decline has prompted businesses to reassess their strategies and optimize their operations. As a result, many are implementing cost-cutting measures to maintain profitability amidst the challenging market conditions.",
         "In 2023, the European market experienced a 15% decline, prompting companies to focus on reducing expenses and implementing cost-cutting measures to maintain profitability amidst challenging conditions.",
         "1"
        ],
        [
         "26",
         "summarise given text\nThe global market is poised for a significant shift, with sales projected to experience a 20% growth in 2024. This anticipated increase is driven by emerging markets and innovative strategies. Companies are gearing up to capitalize on this opportunity by expanding their reach and enhancing their product offerings. As a result, stakeholders are optimistic about the future prospects in the global market.",
         "A significant shift is expected with a 20% growth in 2024, driven by emerging markets and innovative strategies, leading companies to expand their reach and enhance product offerings, resulting in optimistic future prospects.",
         "1"
        ],
        [
         "27",
         "summarise given text\nThe company reported a significant 8% rise in 2022, largely driven by its expansion into the Asian market. This growth in the Asian market contributed substantially to the overall increase in revenue. Analysts attribute the success to strategic investments and localized marketing efforts. As a result, the company is optimistic about maintaining this upward trend in the coming years.",
         "The company's 8% rise in 2022 was driven by expansion into the Asian market, with strategic investments and localized marketing efforts contributing to revenue growth.",
         "1"
        ],
        [
         "28",
         "summarise given text\nThe logistics industry in North America is projected to experience a 5% decrease in 2024. This decline is attributed to various economic factors impacting the region. Companies are strategizing to mitigate the effects of this downturn. Despite the challenges, there are opportunities for innovation and efficiency improvements.",
         "The logistics industry is expected to face a 5% decrease in 2024 due to economic factors, prompting companies to strategize for mitigation while exploring innovation and efficiency improvements.",
         "1"
        ],
        [
         "29",
         "summarise given text\nThe company is facing a challenging year ahead, with a projected 15% decline in 2024 revenue. This downturn is primarily attributed to the European market, where economic conditions have been less favorable. Despite these challenges, the company is exploring strategies to mitigate the impact and stabilize its financial performance. Efforts are being made to diversify and strengthen its presence in other regions to offset the decline.",
         "The company is anticipating a difficult year due to unfavorable economic conditions, but is actively seeking ways to stabilize its finances by expanding in other regions.",
         "1"
        ],
        [
         "30",
         "summarise given text\nThe company is projecting a 10% increase in revenue for 2024, driven by strong performance in North America. This growth is attributed to strategic investments and expanding market presence in the region. Analysts are optimistic about the company's ability to sustain this momentum. The focus on innovation and customer engagement is expected to further bolster revenue figures.",
         "The company's growth is fueled by strategic investments and market expansion, with analysts optimistic about sustaining momentum through innovation and customer engagement.",
         "1"
        ],
        [
         "31",
         "summarise given text\nIn 2023, the Asian market experienced a significant 10% increase, contributing to a substantial profit for many businesses. This growth was driven by various factors, including technological advancements and increased consumer demand. Companies operating in the region capitalized on these opportunities, leading to enhanced financial performance. As a result, the Asian market has become a focal point for investors seeking profitable ventures.",
         "In 2023, the Asian market experienced a 10% increase, driven by technological advancements and consumer demand, leading to substantial profits and becoming a focal point for investors.",
         "1"
        ],
        [
         "32",
         "summarise given text\nThe global market has witnessed a significant shift with an 8% rise in Q1 2023, marking a promising start for the year. This increase in sales is attributed to various factors, including improved consumer confidence and strategic marketing efforts. Companies are now focusing on expanding their reach to capitalize on this growth. As a result, the global market is poised for further expansion in the coming quarters.",
         "The global market experienced an 8% rise in Q1 2023 due to improved consumer confidence and strategic marketing, leading to a promising start for the year and potential further expansion.",
         "1"
        ],
        [
         "33",
         "summarise given text\nIn 2022, there was an 8% rise in expenses across various sectors in Latin America. This increase was attributed to several economic factors impacting the region. Businesses and consumers alike had to adjust their budgets to accommodate the rising costs. The trend highlighted the need for strategic financial planning in Latin America.",
         "Expenses increased across various sectors in Latin America due to economic factors, prompting businesses and consumers to adjust budgets and highlighting the need for strategic financial planning.",
         "1"
        ],
        [
         "34",
         "summarise given text\nIn 2023, companies operating in Latin America experienced a 15% decline in revenue. This downturn was attributed to various economic challenges in the region. Despite the decline, some sectors showed resilience and potential for recovery. Analysts are closely monitoring the situation to provide strategic insights for businesses.",
         "In 2023, companies in Latin America faced a 15% revenue decline due to economic challenges, yet some sectors showed resilience and potential for recovery.",
         "1"
        ],
        [
         "35",
         "summarise given text\nSales in Latin America experienced a remarkable 20% growth in Q1 2023. This impressive increase highlights the region's expanding market potential. Companies are now focusing on strategies to sustain this momentum. The growth in sales is attributed to both increased demand and effective marketing campaigns.",
         "Sales in Latin America saw a remarkable 20% growth in Q1 2023, highlighting the region's expanding market potential and the impact of increased demand and effective marketing campaigns.",
         "1"
        ],
        [
         "36",
         "summarise given text\nIn 2022, the company experienced a 5% decrease in revenue, primarily due to challenges in the European market. Despite efforts to stabilize operations, the economic conditions in Europe significantly impacted sales. The management is now focusing on strategic initiatives to recover and boost revenue in the coming years. Addressing the issues in the European market remains a top priority for the company.",
         "In 2022, the company faced a 5% revenue decrease due to European market challenges, prompting a focus on strategic initiatives to recover and boost revenue.",
         "1"
        ],
        [
         "37",
         "summarise given text\nIn Q3 2024, the company reported a 15% decline in profits, which was primarily attributed to challenges in the Latin America market. Despite the overall downturn, efforts are being made to stabilize operations in the region. The management is optimistic about future growth opportunities in Latin America. They are implementing strategic measures to counteract the profit decline.",
         "In Q3 2024, the company reported a 15% decline in profits due to challenges in the Latin America market, but management is optimistic about future growth opportunities and is implementing strategic measures to stabilize operations.",
         "1"
        ],
        [
         "38",
         "summarise given text\nThe logistics sector is poised for a significant expansion in the European market, with projections indicating a 20% growth in Q3 2024. This surge is attributed to increased demand and improved supply chain efficiencies. Companies are investing heavily in technology to capitalize on this growth. As a result, the European logistics landscape is expected to undergo substantial transformation.",
         "The sector is set for major expansion due to rising demand and enhanced supply chain efficiencies, with companies investing in technology to leverage this growth, leading to significant changes in the landscape.",
         "1"
        ],
        [
         "39",
         "summarise given text\nIn 2022, North America experienced a significant economic boost with a 10% increase in profit. This growth was attributed to strategic investments and market expansion. Companies across various sectors reported higher earnings, contributing to the overall profit surge. The 10% increase in 2022 marked a pivotal year for North America's economic landscape.",
         "A significant economic boost was observed due to strategic investments and market expansion, with companies across various sectors reporting higher earnings, marking a pivotal year for the region's economic landscape.",
         "1"
        ],
        [
         "40",
         "summarise given text\nIn 2022, the company experienced a remarkable 20% growth in the Asian market, significantly boosting its overall profit. This growth was driven by strategic investments and an increased demand for their products. The Asian market's expansion played a crucial role in the company's financial success. As a result, the company is optimistic about maintaining this upward trajectory in the coming years.",
         "The company's financial success was significantly boosted by strategic investments and increased demand in the Asian market, leading to optimism for continued growth.",
         "1"
        ],
        [
         "41",
         "summarise given text\nThe company is preparing for a 15% decline in 2024, which is expected to impact its operations in the Asian market significantly. As a result, management is focusing on reducing expenses to mitigate potential losses. Strategies are being developed to adapt to the changing economic conditions in the region. The goal is to maintain stability despite the anticipated downturn.",
         "The company is planning to address a projected 15% decline in 2024 by developing strategies to adapt to changing economic conditions and maintain stability despite the anticipated downturn.",
         "1"
        ],
        [
         "42",
         "summarise given text\nThe European market is projected to experience an 8% rise in 2024, which is expected to impact various sectors. As companies prepare for this growth, they are also evaluating their expenses to ensure sustainable expansion. Analysts suggest that managing expenses effectively will be crucial for businesses to capitalize on the opportunities presented by the European market's rise. This strategic approach will help companies maintain profitability while navigating the anticipated economic changes.",
         "The European market's projected 8% rise in 2024 is expected to impact various sectors, prompting companies to evaluate expenses for sustainable expansion and maintain profitability amid economic changes.",
         "1"
        ],
        [
         "43",
         "summarise given text\nThe logistics sector in Latin America is projected to experience a 10% increase in Q3 2024. This growth is attributed to enhanced infrastructure and strategic partnerships within the region. Companies are investing heavily in technology to streamline operations and meet the rising demand. As a result, the logistics industry is poised for significant expansion in the coming years.",
         "The logistics sector in Latin America is projected to grow by 10% in Q3 2024 due to enhanced infrastructure, strategic partnerships, and technology investments.",
         "1"
        ],
        [
         "44",
         "summarise given text\nIn North America, companies are reporting a 5% decrease in Q3 2024 expenses. This reduction in expenses is attributed to strategic cost-cutting measures. Analysts are optimistic that this trend will continue into the next quarter. Businesses are focusing on efficiency to maintain profitability.",
         "In North America, companies report a 5% decrease in Q3 2024 expenses due to strategic cost-cutting measures, with analysts optimistic about continued efficiency and profitability.",
         "1"
        ],
        [
         "45",
         "summarise given text\nIn 2023, the company experienced a 5% decrease in revenue within the European market. This decline was attributed to various economic challenges and increased competition. Despite the downturn, the company is implementing strategies to regain its market position. The focus is on innovation and expanding its product offerings to boost revenue in the coming years.",
         "In 2023, the company faced a 5% revenue decrease in the European market due to economic challenges and competition, but is focusing on innovation and expanding product offerings to regain its market position.",
         "1"
        ],
        [
         "46",
         "summarise given text\nIn Q3 2024, the company reported an 8% rise in revenue, marking a significant achievement. This growth was primarily driven by strong performance in North America. The region's robust economic activities contributed to the overall increase. As a result, the company is optimistic about maintaining this upward trend in the coming quarters.",
         "In Q3 2024, the company reported an 8% rise in revenue, driven by strong performance in North America, marking a significant achievement and contributing to optimism for future growth.",
         "1"
        ],
        [
         "47",
         "summarise given text\nThe European market experienced a 5% decrease in Q3 2024, impacting overall sales figures. This decline has prompted companies to reassess their strategies to regain market share. Analysts are closely monitoring the situation to understand the underlying factors contributing to the downturn. Businesses are hopeful for a recovery in the upcoming quarters.",
         "The European market's 5% decrease in Q3 2024 has led companies to reassess strategies to regain market share, with analysts monitoring the downturn's underlying factors.",
         "1"
        ],
        [
         "48",
         "summarise given text\nIn 2022, Sales in North America experienced a remarkable 20% growth. This significant increase was driven by strategic marketing initiatives and an expanding customer base. The growth highlights the region's robust economic environment and the effectiveness of the sales team's efforts. As a result, North America has become a key contributor to the company's overall success.",
         "A remarkable increase was achieved through strategic marketing and a growing customer base, underscoring the region's strong economic conditions and the team's successful efforts, making it a crucial part of the company's success.",
         "1"
        ],
        [
         "49",
         "summarise given text\nThe logistics sector experienced a significant transformation in the European market, marked by a 10% increase in 2022. This growth was driven by advancements in supply chain technologies and increased demand for efficient transportation solutions. Companies operating in the European market have adapted to these changes by investing in innovative logistics strategies. As a result, the industry is poised for continued expansion in the coming years.",
         "The logistics sector underwent a major transformation driven by advancements in supply chain technologies and increased demand for efficient transportation solutions, leading companies to invest in innovative strategies for future growth.",
         "1"
        ]
       ],
       "shape": {
        "columns": 3,
        "rows": 50
       }
      },
      "text/html": [
       "<div>\n",
       "<style scoped>\n",
       "    .dataframe tbody tr th:only-of-type {\n",
       "        vertical-align: middle;\n",
       "    }\n",
       "\n",
       "    .dataframe tbody tr th {\n",
       "        vertical-align: top;\n",
       "    }\n",
       "\n",
       "    .dataframe thead th {\n",
       "        text-align: right;\n",
       "    }\n",
       "</style>\n",
       "<table border=\"1\" class=\"dataframe\">\n",
       "  <thead>\n",
       "    <tr style=\"text-align: right;\">\n",
       "      <th></th>\n",
       "      <th>user_input</th>\n",
       "      <th>response</th>\n",
       "      <th>summary_accuracy</th>\n",
       "    </tr>\n",
       "  </thead>\n",
       "  <tbody>\n",
       "    <tr>\n",
       "      <th>0</th>\n",
       "      <td>summarise given text\\nThe Q2 earnings report r...</td>\n",
       "      <td>The Q2 earnings report showed a 15% revenue in...</td>\n",
       "      <td>1</td>\n",
       "    </tr>\n",
       "    <tr>\n",
       "      <th>1</th>\n",
       "      <td>summarise given text\\nIn 2023, North American ...</td>\n",
       "      <td>Companies are strategizing to adapt to market ...</td>\n",
       "      <td>1</td>\n",
       "    </tr>\n",
       "    <tr>\n",
       "      <th>2</th>\n",
       "      <td>summarise given text\\nIn 2022, European expans...</td>\n",
       "      <td>Many companies experienced a notable 15% growt...</td>\n",
       "      <td>1</td>\n",
       "    </tr>\n",
       "    <tr>\n",
       "      <th>3</th>\n",
       "      <td>summarise given text\\nSupply chain challenges ...</td>\n",
       "      <td>Supply chain challenges in North America, caus...</td>\n",
       "      <td>1</td>\n",
       "    </tr>\n",
       "    <tr>\n",
       "      <th>4</th>\n",
       "      <td>summarise given text\\nIn Q2 2023, the company ...</td>\n",
       "      <td>The company experienced a notable increase in ...</td>\n",
       "      <td>1</td>\n",
       "    </tr>\n",
       "    <tr>\n",
       "      <th>5</th>\n",
       "      <td>summarise given text\\nIn 2023, marketing campa...</td>\n",
       "      <td>In 2023, marketing campaigns in North America ...</td>\n",
       "      <td>1</td>\n",
       "    </tr>\n",
       "    <tr>\n",
       "      <th>6</th>\n",
       "      <td>summarise given text\\nThe company's internatio...</td>\n",
       "      <td>The company's international expansion strategy...</td>\n",
       "      <td>1</td>\n",
       "    </tr>\n",
       "    <tr>\n",
       "      <th>7</th>\n",
       "      <td>summarise given text\\nIn 2024, companies are i...</td>\n",
       "      <td>Companies are using data analytics to customiz...</td>\n",
       "      <td>1</td>\n",
       "    </tr>\n",
       "    <tr>\n",
       "      <th>8</th>\n",
       "      <td>summarise given text\\nIn 2023, logistics inves...</td>\n",
       "      <td>Driven by technological and infrastructural ad...</td>\n",
       "      <td>1</td>\n",
       "    </tr>\n",
       "    <tr>\n",
       "      <th>9</th>\n",
       "      <td>summarise given text\\nIn 2023, the company exp...</td>\n",
       "      <td>The company faced challenges due to competitio...</td>\n",
       "      <td>1</td>\n",
       "    </tr>\n",
       "    <tr>\n",
       "      <th>10</th>\n",
       "      <td>summarise given text\\nThe company reported a 5...</td>\n",
       "      <td>The company faced challenges in the European m...</td>\n",
       "      <td>1</td>\n",
       "    </tr>\n",
       "    <tr>\n",
       "      <th>11</th>\n",
       "      <td>summarise given text\\nThe company reported a s...</td>\n",
       "      <td>The company's significant profit in Q3 2024, d...</td>\n",
       "      <td>1</td>\n",
       "    </tr>\n",
       "    <tr>\n",
       "      <th>12</th>\n",
       "      <td>summarise given text\\nThe global market has ex...</td>\n",
       "      <td>The recent downturn has raised concerns among ...</td>\n",
       "      <td>1</td>\n",
       "    </tr>\n",
       "    <tr>\n",
       "      <th>13</th>\n",
       "      <td>summarise given text\\nThe logistics industry i...</td>\n",
       "      <td>The industry is expected to grow by 20% in 202...</td>\n",
       "      <td>1</td>\n",
       "    </tr>\n",
       "    <tr>\n",
       "      <th>14</th>\n",
       "      <td>summarise given text\\nThe company reported an ...</td>\n",
       "      <td>The company experienced an 8% increase in Q3 2...</td>\n",
       "      <td>1</td>\n",
       "    </tr>\n",
       "    <tr>\n",
       "      <th>15</th>\n",
       "      <td>summarise given text\\nIn 2022, the Asian marke...</td>\n",
       "      <td>In 2022, the Asian market experienced a signif...</td>\n",
       "      <td>1</td>\n",
       "    </tr>\n",
       "    <tr>\n",
       "      <th>16</th>\n",
       "      <td>summarise given text\\nThe global market has wi...</td>\n",
       "      <td>The global market experienced a 10% increase i...</td>\n",
       "      <td>1</td>\n",
       "    </tr>\n",
       "    <tr>\n",
       "      <th>17</th>\n",
       "      <td>summarise given text\\nThe company reported a 1...</td>\n",
       "      <td>The company experienced significant growth due...</td>\n",
       "      <td>1</td>\n",
       "    </tr>\n",
       "    <tr>\n",
       "      <th>18</th>\n",
       "      <td>summarise given text\\nThe company's revenue sa...</td>\n",
       "      <td>The company's financial success was significan...</td>\n",
       "      <td>1</td>\n",
       "    </tr>\n",
       "    <tr>\n",
       "      <th>19</th>\n",
       "      <td>summarise given text\\nThe Marketing team is st...</td>\n",
       "      <td>The team is strategizing to address the challe...</td>\n",
       "      <td>1</td>\n",
       "    </tr>\n",
       "    <tr>\n",
       "      <th>20</th>\n",
       "      <td>summarise given text\\nIn 2023, the global mark...</td>\n",
       "      <td>In 2023, the global market saw a 5% sales decr...</td>\n",
       "      <td>1</td>\n",
       "    </tr>\n",
       "    <tr>\n",
       "      <th>21</th>\n",
       "      <td>summarise given text\\nIn 2022, there was an 8%...</td>\n",
       "      <td>Economic factors led to increased expenses, pr...</td>\n",
       "      <td>1</td>\n",
       "    </tr>\n",
       "    <tr>\n",
       "      <th>22</th>\n",
       "      <td>summarise given text\\nIn 2022, the global mark...</td>\n",
       "      <td>In 2022, a remarkable 20% growth significantly...</td>\n",
       "      <td>1</td>\n",
       "    </tr>\n",
       "    <tr>\n",
       "      <th>23</th>\n",
       "      <td>summarise given text\\nIn 2022, the European ma...</td>\n",
       "      <td>In 2022, the European market experienced a 5% ...</td>\n",
       "      <td>1</td>\n",
       "    </tr>\n",
       "    <tr>\n",
       "      <th>24</th>\n",
       "      <td>summarise given text\\nIn 2022, companies opera...</td>\n",
       "      <td>In 2022, companies in Latin America faced a 15...</td>\n",
       "      <td>1</td>\n",
       "    </tr>\n",
       "    <tr>\n",
       "      <th>25</th>\n",
       "      <td>summarise given text\\nIn 2023, the European ma...</td>\n",
       "      <td>In 2023, the European market experienced a 15%...</td>\n",
       "      <td>1</td>\n",
       "    </tr>\n",
       "    <tr>\n",
       "      <th>26</th>\n",
       "      <td>summarise given text\\nThe global market is poi...</td>\n",
       "      <td>A significant shift is expected with a 20% gro...</td>\n",
       "      <td>1</td>\n",
       "    </tr>\n",
       "    <tr>\n",
       "      <th>27</th>\n",
       "      <td>summarise given text\\nThe company reported a s...</td>\n",
       "      <td>The company's 8% rise in 2022 was driven by ex...</td>\n",
       "      <td>1</td>\n",
       "    </tr>\n",
       "    <tr>\n",
       "      <th>28</th>\n",
       "      <td>summarise given text\\nThe logistics industry i...</td>\n",
       "      <td>The logistics industry is expected to face a 5...</td>\n",
       "      <td>1</td>\n",
       "    </tr>\n",
       "    <tr>\n",
       "      <th>29</th>\n",
       "      <td>summarise given text\\nThe company is facing a ...</td>\n",
       "      <td>The company is anticipating a difficult year d...</td>\n",
       "      <td>1</td>\n",
       "    </tr>\n",
       "    <tr>\n",
       "      <th>30</th>\n",
       "      <td>summarise given text\\nThe company is projectin...</td>\n",
       "      <td>The company's growth is fueled by strategic in...</td>\n",
       "      <td>1</td>\n",
       "    </tr>\n",
       "    <tr>\n",
       "      <th>31</th>\n",
       "      <td>summarise given text\\nIn 2023, the Asian marke...</td>\n",
       "      <td>In 2023, the Asian market experienced a 10% in...</td>\n",
       "      <td>1</td>\n",
       "    </tr>\n",
       "    <tr>\n",
       "      <th>32</th>\n",
       "      <td>summarise given text\\nThe global market has wi...</td>\n",
       "      <td>The global market experienced an 8% rise in Q1...</td>\n",
       "      <td>1</td>\n",
       "    </tr>\n",
       "    <tr>\n",
       "      <th>33</th>\n",
       "      <td>summarise given text\\nIn 2022, there was an 8%...</td>\n",
       "      <td>Expenses increased across various sectors in L...</td>\n",
       "      <td>1</td>\n",
       "    </tr>\n",
       "    <tr>\n",
       "      <th>34</th>\n",
       "      <td>summarise given text\\nIn 2023, companies opera...</td>\n",
       "      <td>In 2023, companies in Latin America faced a 15...</td>\n",
       "      <td>1</td>\n",
       "    </tr>\n",
       "    <tr>\n",
       "      <th>35</th>\n",
       "      <td>summarise given text\\nSales in Latin America e...</td>\n",
       "      <td>Sales in Latin America saw a remarkable 20% gr...</td>\n",
       "      <td>1</td>\n",
       "    </tr>\n",
       "    <tr>\n",
       "      <th>36</th>\n",
       "      <td>summarise given text\\nIn 2022, the company exp...</td>\n",
       "      <td>In 2022, the company faced a 5% revenue decrea...</td>\n",
       "      <td>1</td>\n",
       "    </tr>\n",
       "    <tr>\n",
       "      <th>37</th>\n",
       "      <td>summarise given text\\nIn Q3 2024, the company ...</td>\n",
       "      <td>In Q3 2024, the company reported a 15% decline...</td>\n",
       "      <td>1</td>\n",
       "    </tr>\n",
       "    <tr>\n",
       "      <th>38</th>\n",
       "      <td>summarise given text\\nThe logistics sector is ...</td>\n",
       "      <td>The sector is set for major expansion due to r...</td>\n",
       "      <td>1</td>\n",
       "    </tr>\n",
       "    <tr>\n",
       "      <th>39</th>\n",
       "      <td>summarise given text\\nIn 2022, North America e...</td>\n",
       "      <td>A significant economic boost was observed due ...</td>\n",
       "      <td>1</td>\n",
       "    </tr>\n",
       "    <tr>\n",
       "      <th>40</th>\n",
       "      <td>summarise given text\\nIn 2022, the company exp...</td>\n",
       "      <td>The company's financial success was significan...</td>\n",
       "      <td>1</td>\n",
       "    </tr>\n",
       "    <tr>\n",
       "      <th>41</th>\n",
       "      <td>summarise given text\\nThe company is preparing...</td>\n",
       "      <td>The company is planning to address a projected...</td>\n",
       "      <td>1</td>\n",
       "    </tr>\n",
       "    <tr>\n",
       "      <th>42</th>\n",
       "      <td>summarise given text\\nThe European market is p...</td>\n",
       "      <td>The European market's projected 8% rise in 202...</td>\n",
       "      <td>1</td>\n",
       "    </tr>\n",
       "    <tr>\n",
       "      <th>43</th>\n",
       "      <td>summarise given text\\nThe logistics sector in ...</td>\n",
       "      <td>The logistics sector in Latin America is proje...</td>\n",
       "      <td>1</td>\n",
       "    </tr>\n",
       "    <tr>\n",
       "      <th>44</th>\n",
       "      <td>summarise given text\\nIn North America, compan...</td>\n",
       "      <td>In North America, companies report a 5% decrea...</td>\n",
       "      <td>1</td>\n",
       "    </tr>\n",
       "    <tr>\n",
       "      <th>45</th>\n",
       "      <td>summarise given text\\nIn 2023, the company exp...</td>\n",
       "      <td>In 2023, the company faced a 5% revenue decrea...</td>\n",
       "      <td>1</td>\n",
       "    </tr>\n",
       "    <tr>\n",
       "      <th>46</th>\n",
       "      <td>summarise given text\\nIn Q3 2024, the company ...</td>\n",
       "      <td>In Q3 2024, the company reported an 8% rise in...</td>\n",
       "      <td>1</td>\n",
       "    </tr>\n",
       "    <tr>\n",
       "      <th>47</th>\n",
       "      <td>summarise given text\\nThe European market expe...</td>\n",
       "      <td>The European market's 5% decrease in Q3 2024 h...</td>\n",
       "      <td>1</td>\n",
       "    </tr>\n",
       "    <tr>\n",
       "      <th>48</th>\n",
       "      <td>summarise given text\\nIn 2022, Sales in North ...</td>\n",
       "      <td>A remarkable increase was achieved through str...</td>\n",
       "      <td>1</td>\n",
       "    </tr>\n",
       "    <tr>\n",
       "      <th>49</th>\n",
       "      <td>summarise given text\\nThe logistics sector exp...</td>\n",
       "      <td>The logistics sector underwent a major transfo...</td>\n",
       "      <td>1</td>\n",
       "    </tr>\n",
       "  </tbody>\n",
       "</table>\n",
       "</div>"
      ],
      "text/plain": [
       "                                           user_input  \\\n",
       "0   summarise given text\\nThe Q2 earnings report r...   \n",
       "1   summarise given text\\nIn 2023, North American ...   \n",
       "2   summarise given text\\nIn 2022, European expans...   \n",
       "3   summarise given text\\nSupply chain challenges ...   \n",
       "4   summarise given text\\nIn Q2 2023, the company ...   \n",
       "5   summarise given text\\nIn 2023, marketing campa...   \n",
       "6   summarise given text\\nThe company's internatio...   \n",
       "7   summarise given text\\nIn 2024, companies are i...   \n",
       "8   summarise given text\\nIn 2023, logistics inves...   \n",
       "9   summarise given text\\nIn 2023, the company exp...   \n",
       "10  summarise given text\\nThe company reported a 5...   \n",
       "11  summarise given text\\nThe company reported a s...   \n",
       "12  summarise given text\\nThe global market has ex...   \n",
       "13  summarise given text\\nThe logistics industry i...   \n",
       "14  summarise given text\\nThe company reported an ...   \n",
       "15  summarise given text\\nIn 2022, the Asian marke...   \n",
       "16  summarise given text\\nThe global market has wi...   \n",
       "17  summarise given text\\nThe company reported a 1...   \n",
       "18  summarise given text\\nThe company's revenue sa...   \n",
       "19  summarise given text\\nThe Marketing team is st...   \n",
       "20  summarise given text\\nIn 2023, the global mark...   \n",
       "21  summarise given text\\nIn 2022, there was an 8%...   \n",
       "22  summarise given text\\nIn 2022, the global mark...   \n",
       "23  summarise given text\\nIn 2022, the European ma...   \n",
       "24  summarise given text\\nIn 2022, companies opera...   \n",
       "25  summarise given text\\nIn 2023, the European ma...   \n",
       "26  summarise given text\\nThe global market is poi...   \n",
       "27  summarise given text\\nThe company reported a s...   \n",
       "28  summarise given text\\nThe logistics industry i...   \n",
       "29  summarise given text\\nThe company is facing a ...   \n",
       "30  summarise given text\\nThe company is projectin...   \n",
       "31  summarise given text\\nIn 2023, the Asian marke...   \n",
       "32  summarise given text\\nThe global market has wi...   \n",
       "33  summarise given text\\nIn 2022, there was an 8%...   \n",
       "34  summarise given text\\nIn 2023, companies opera...   \n",
       "35  summarise given text\\nSales in Latin America e...   \n",
       "36  summarise given text\\nIn 2022, the company exp...   \n",
       "37  summarise given text\\nIn Q3 2024, the company ...   \n",
       "38  summarise given text\\nThe logistics sector is ...   \n",
       "39  summarise given text\\nIn 2022, North America e...   \n",
       "40  summarise given text\\nIn 2022, the company exp...   \n",
       "41  summarise given text\\nThe company is preparing...   \n",
       "42  summarise given text\\nThe European market is p...   \n",
       "43  summarise given text\\nThe logistics sector in ...   \n",
       "44  summarise given text\\nIn North America, compan...   \n",
       "45  summarise given text\\nIn 2023, the company exp...   \n",
       "46  summarise given text\\nIn Q3 2024, the company ...   \n",
       "47  summarise given text\\nThe European market expe...   \n",
       "48  summarise given text\\nIn 2022, Sales in North ...   \n",
       "49  summarise given text\\nThe logistics sector exp...   \n",
       "\n",
       "                                             response  summary_accuracy  \n",
       "0   The Q2 earnings report showed a 15% revenue in...                 1  \n",
       "1   Companies are strategizing to adapt to market ...                 1  \n",
       "2   Many companies experienced a notable 15% growt...                 1  \n",
       "3   Supply chain challenges in North America, caus...                 1  \n",
       "4   The company experienced a notable increase in ...                 1  \n",
       "5   In 2023, marketing campaigns in North America ...                 1  \n",
       "6   The company's international expansion strategy...                 1  \n",
       "7   Companies are using data analytics to customiz...                 1  \n",
       "8   Driven by technological and infrastructural ad...                 1  \n",
       "9   The company faced challenges due to competitio...                 1  \n",
       "10  The company faced challenges in the European m...                 1  \n",
       "11  The company's significant profit in Q3 2024, d...                 1  \n",
       "12  The recent downturn has raised concerns among ...                 1  \n",
       "13  The industry is expected to grow by 20% in 202...                 1  \n",
       "14  The company experienced an 8% increase in Q3 2...                 1  \n",
       "15  In 2022, the Asian market experienced a signif...                 1  \n",
       "16  The global market experienced a 10% increase i...                 1  \n",
       "17  The company experienced significant growth due...                 1  \n",
       "18  The company's financial success was significan...                 1  \n",
       "19  The team is strategizing to address the challe...                 1  \n",
       "20  In 2023, the global market saw a 5% sales decr...                 1  \n",
       "21  Economic factors led to increased expenses, pr...                 1  \n",
       "22  In 2022, a remarkable 20% growth significantly...                 1  \n",
       "23  In 2022, the European market experienced a 5% ...                 1  \n",
       "24  In 2022, companies in Latin America faced a 15...                 1  \n",
       "25  In 2023, the European market experienced a 15%...                 1  \n",
       "26  A significant shift is expected with a 20% gro...                 1  \n",
       "27  The company's 8% rise in 2022 was driven by ex...                 1  \n",
       "28  The logistics industry is expected to face a 5...                 1  \n",
       "29  The company is anticipating a difficult year d...                 1  \n",
       "30  The company's growth is fueled by strategic in...                 1  \n",
       "31  In 2023, the Asian market experienced a 10% in...                 1  \n",
       "32  The global market experienced an 8% rise in Q1...                 1  \n",
       "33  Expenses increased across various sectors in L...                 1  \n",
       "34  In 2023, companies in Latin America faced a 15...                 1  \n",
       "35  Sales in Latin America saw a remarkable 20% gr...                 1  \n",
       "36  In 2022, the company faced a 5% revenue decrea...                 1  \n",
       "37  In Q3 2024, the company reported a 15% decline...                 1  \n",
       "38  The sector is set for major expansion due to r...                 1  \n",
       "39  A significant economic boost was observed due ...                 1  \n",
       "40  The company's financial success was significan...                 1  \n",
       "41  The company is planning to address a projected...                 1  \n",
       "42  The European market's projected 8% rise in 202...                 1  \n",
       "43  The logistics sector in Latin America is proje...                 1  \n",
       "44  In North America, companies report a 5% decrea...                 1  \n",
       "45  In 2023, the company faced a 5% revenue decrea...                 1  \n",
       "46  In Q3 2024, the company reported an 8% rise in...                 1  \n",
       "47  The European market's 5% decrease in Q3 2024 h...                 1  \n",
       "48  A remarkable increase was achieved through str...                 1  \n",
       "49  The logistics sector underwent a major transfo...                 1  "
      ]
     },
     "execution_count": 39,
     "metadata": {},
     "output_type": "execute_result"
    }
   ],
   "source": [
    "results.to_pandas()"
   ]
  },
  {
   "cell_type": "code",
   "execution_count": null,
   "metadata": {},
   "outputs": [],
   "source": []
  }
 ],
 "metadata": {
  "kernelspec": {
   "display_name": "venv",
   "language": "python",
   "name": "python3"
  },
  "language_info": {
   "codemirror_mode": {
    "name": "ipython",
    "version": 3
   },
   "file_extension": ".py",
   "mimetype": "text/x-python",
   "name": "python",
   "nbconvert_exporter": "python",
   "pygments_lexer": "ipython3",
   "version": "3.12.3"
  }
 },
 "nbformat": 4,
 "nbformat_minor": 2
}
